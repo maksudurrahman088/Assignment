{
 "cells": [
  {
   "cell_type": "code",
   "execution_count": 1,
   "id": "0a6c377b",
   "metadata": {},
   "outputs": [],
   "source": [
    "import numpy as np"
   ]
  },
  {
   "cell_type": "code",
   "execution_count": 2,
   "id": "e45096f8",
   "metadata": {},
   "outputs": [
    {
     "name": "stdout",
     "output_type": "stream",
     "text": [
      "Matrix with fixed seed:\n",
      "[[17 43  2]\n",
      " [13 31  4]\n",
      " [20 23 46]]\n"
     ]
    }
   ],
   "source": [
    "matrix_fixed = np.random.randint(1, 51, (3, 3))\n",
    "\n",
    "# Display the matrix with fixed seed\n",
    "print(\"Matrix with fixed seed:\")\n",
    "print(matrix_fixed)\n"
   ]
  },
  {
   "cell_type": "code",
   "execution_count": 3,
   "id": "452557d8",
   "metadata": {},
   "outputs": [
    {
     "name": "stdout",
     "output_type": "stream",
     "text": [
      "\n",
      "Matrix without fixed seed:\n",
      "[[ 2 44 38]\n",
      " [34 41 14]\n",
      " [10 16 22]]\n"
     ]
    }
   ],
   "source": [
    "matrix_random = np.random.randint(1, 51, (3, 3))\n",
    "\n",
    "# Display the matrix without a fixed seed\n",
    "print(\"\\nMatrix without fixed seed:\")\n",
    "print(matrix_random)"
   ]
  }
 ],
 "metadata": {
  "kernelspec": {
   "display_name": "Python 3 (ipykernel)",
   "language": "python",
   "name": "python3"
  },
  "language_info": {
   "codemirror_mode": {
    "name": "ipython",
    "version": 3
   },
   "file_extension": ".py",
   "mimetype": "text/x-python",
   "name": "python",
   "nbconvert_exporter": "python",
   "pygments_lexer": "ipython3",
   "version": "3.11.5"
  }
 },
 "nbformat": 4,
 "nbformat_minor": 5
}
