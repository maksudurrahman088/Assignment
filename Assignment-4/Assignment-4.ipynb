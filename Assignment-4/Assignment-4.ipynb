{
 "cells": [
  {
   "cell_type": "code",
   "execution_count": 3,
   "id": "0255ca4c",
   "metadata": {},
   "outputs": [
    {
     "name": "stdout",
     "output_type": "stream",
     "text": [
      "T-statistic: -6.872731683285835\n",
      "P-value: 5.877565294167889e-10\n",
      "The means differ significantly (reject the null hypothesis).\n"
     ]
    }
   ],
   "source": [
    "import numpy as np\n",
    "from scipy.stats import ttest_ind\n",
    "\n",
    "np.random.seed(42)\n",
    "\n",
    "mu1, sigma1 = 5, 2\n",
    "mu2, sigma2 = 7, 2\n",
    "\n",
    "set1 = np.random.normal(mu1, sigma1, 50)\n",
    "set2 = np.random.normal(mu2, sigma2, 50)\n",
    "\n",
    "t_statistic, p_value = ttest_ind(set1, set2)\n",
    "\n",
    "print(f\"T-statistic: {t_statistic}\")\n",
    "print(f\"P-value: {p_value}\")\n",
    "\n",
    "alpha = 0.05 \n",
    "if p_value < alpha:\n",
    "    print(\"The means differ significantly (reject the null hypothesis).\")\n",
    "else:\n",
    "    print(\"The means do not differ significantly (fail to reject the null hypothesis).\")"
   ]
  },
  {
   "cell_type": "code",
   "execution_count": null,
   "id": "7c1f7392",
   "metadata": {},
   "outputs": [],
   "source": []
  }
 ],
 "metadata": {
  "kernelspec": {
   "display_name": "Python 3 (ipykernel)",
   "language": "python",
   "name": "python3"
  },
  "language_info": {
   "codemirror_mode": {
    "name": "ipython",
    "version": 3
   },
   "file_extension": ".py",
   "mimetype": "text/x-python",
   "name": "python",
   "nbconvert_exporter": "python",
   "pygments_lexer": "ipython3",
   "version": "3.11.5"
  }
 },
 "nbformat": 4,
 "nbformat_minor": 5
}
